{
 "cells": [
  {
   "cell_type": "code",
   "execution_count": 1,
   "metadata": {},
   "outputs": [],
   "source": [
    "from src.utils.kaggle_api import init, download_comp_datasets, download_datasets, create_datasets, pull_kernel, push_kernel, pull_model\n",
    "\n",
    "init()"
   ]
  },
  {
   "cell_type": "code",
   "execution_count": 10,
   "metadata": {},
   "outputs": [
    {
     "name": "stdout",
     "output_type": "stream",
     "text": [
      "ref                                                                                deadline             category             reward  teamCount  userHasEntered  \n",
      "---------------------------------------------------------------------------------  -------------------  ---------------  ----------  ---------  --------------  \n",
      "https://www.kaggle.com/competitions/ai-mathematical-olympiad-prize                 2024-06-27 23:59:00  Featured         $1,048,576        182           False  \n",
      "https://www.kaggle.com/competitions/home-credit-credit-risk-model-stability        2024-05-27 23:59:00  Featured           $105,000       2619            True  \n",
      "https://www.kaggle.com/competitions/learning-agency-lab-automated-essay-scoring-2  2024-07-02 23:59:00  Featured            $50,000        938           False  \n",
      "https://www.kaggle.com/competitions/image-matching-challenge-2024                  2024-06-03 23:59:00  Research            $50,000        602            True  \n",
      "https://www.kaggle.com/competitions/leash-BELKA                                    2024-07-08 23:59:00  Featured            $50,000        562           False  \n",
      "https://www.kaggle.com/competitions/birdclef-2024                                  2024-06-10 23:59:00  Research            $50,000        432           False  \n",
      "https://www.kaggle.com/competitions/leap-atmospheric-physics-ai-climsim            2024-07-01 23:59:00  Research            $50,000        156           False  \n",
      "https://www.kaggle.com/competitions/uspto-explainable-ai                           2024-07-24 23:59:00  Featured            $50,000         18           False  \n",
      "https://www.kaggle.com/competitions/playground-series-s4e4                         2024-04-30 23:59:00  Playground             Swag       2436           False  \n",
      "https://www.kaggle.com/competitions/planttraits2024                                2024-06-15 22:00:00  Research          Knowledge        237           False  \n",
      "https://www.kaggle.com/competitions/geolifeclef-2024                               2024-05-24 23:59:00  Research          Knowledge         61            True  \n",
      "https://www.kaggle.com/competitions/titanic                                        2030-01-01 00:00:00  Getting Started   Knowledge      15736            True  \n",
      "https://www.kaggle.com/competitions/house-prices-advanced-regression-techniques    2030-01-01 00:00:00  Getting Started   Knowledge       4782           False  \n",
      "https://www.kaggle.com/competitions/spaceship-titanic                              2030-01-01 00:00:00  Getting Started   Knowledge       2545           False  \n",
      "https://www.kaggle.com/competitions/digit-recognizer                               2030-01-01 00:00:00  Getting Started   Knowledge       1805           False  \n",
      "https://www.kaggle.com/competitions/nlp-getting-started                            2030-01-01 00:00:00  Getting Started   Knowledge       1172           False  \n",
      "https://www.kaggle.com/competitions/store-sales-time-series-forecasting            2030-06-30 23:59:00  Getting Started   Knowledge        723           False  \n",
      "https://www.kaggle.com/competitions/connectx                                       2030-01-01 00:00:00  Getting Started   Knowledge        226           False  \n",
      "https://www.kaggle.com/competitions/gan-getting-started                            2030-07-01 23:59:00  Getting Started   Knowledge        131           False  \n",
      "https://www.kaggle.com/competitions/tpu-getting-started                            2030-06-03 23:59:00  Getting Started   Knowledge         52           False  \n"
     ]
    }
   ],
   "source": [
    "!kaggle competitions list"
   ]
  },
  {
   "cell_type": "code",
   "execution_count": 4,
   "metadata": {},
   "outputs": [
    {
     "name": "stdout",
     "output_type": "stream",
     "text": [
      "Downloading image-matching-challenge-2024.zip to /kaggle/input/image-matching-challenge-2024\n"
     ]
    },
    {
     "name": "stderr",
     "output_type": "stream",
     "text": [
      "100%|██████████| 3.47G/3.47G [02:07<00:00, 29.3MB/s]\n"
     ]
    },
    {
     "name": "stdout",
     "output_type": "stream",
     "text": [
      "\n"
     ]
    }
   ],
   "source": [
    "download_comp_datasets(\"image-matching-challenge-2024\")"
   ]
  },
  {
   "cell_type": "code",
   "execution_count": 30,
   "metadata": {},
   "outputs": [],
   "source": [
    "download_datasets(\n",
    "    \"oldufo/colmap-db-import\",\n",
    ")"
   ]
  },
  {
   "cell_type": "code",
   "execution_count": 2,
   "metadata": {},
   "outputs": [
    {
     "name": "stdout",
     "output_type": "stream",
     "text": [
      "Source code downloaded to ./tmp/imc2024-repo.ipynb\n"
     ]
    }
   ],
   "source": [
    "pull_kernel(\n",
    "    \"welshonionman/imc2024-repo\",\n",
    ")"
   ]
  },
  {
   "cell_type": "code",
   "execution_count": null,
   "metadata": {},
   "outputs": [],
   "source": [
    "create_datasets(\n",
    "    \"welshonionman\",\n",
    "    \"/kaggle/working/notebook/experiment/stacked_unet/model17/model17\",\n",
    ")"
   ]
  },
  {
   "cell_type": "code",
   "execution_count": 11,
   "metadata": {},
   "outputs": [
    {
     "name": "stdout",
     "output_type": "stream",
     "text": [
      "metaresearch/dinov2/pytorch/base/1\n",
      "/kaggle/input/metaresearch/dinov2/pytorch/base/1\n",
      "kaggle models instances versions download metaresearch/dinov2/pytorch/base/1 --untar -p /kaggle/input/metaresearch/dinov2/pytorch/base/1\n",
      "Downloading dinov2.tar.gz to /kaggle/input/metaresearch/dinov2/pytorch/base/1\n"
     ]
    },
    {
     "name": "stderr",
     "output_type": "stream",
     "text": [
      "100%|██████████| 307M/307M [00:14<00:00, 22.3MB/s] \n"
     ]
    },
    {
     "name": "stdout",
     "output_type": "stream",
     "text": [
      "\n",
      "/kaggle/input/metaresearch/dinov2/pytorch/base/1/dinov2.tar.gz"
     ]
    }
   ],
   "source": [
    "pull_model(\n",
    "    \"https://www.kaggle.com/models/metaresearch/dinov2/frameworks/PyTorch/variations/base/versions/1\",\n",
    ")"
   ]
  },
  {
   "cell_type": "code",
   "execution_count": null,
   "metadata": {},
   "outputs": [
    {
     "name": "stdout",
     "output_type": "stream",
     "text": [
      "Kernel version 6 successfully pushed.  Please check progress at https://www.kaggle.com/code/welshonionman/imc2024-repo\n"
     ]
    }
   ],
   "source": [
    "push_kernel(\"welshonionman\", \"/kaggle/notebook/imc2024-repo.ipynb\", comp=\"image-matching-challenge-2024\", random_suffix=False)"
   ]
  },
  {
   "cell_type": "code",
   "execution_count": 3,
   "metadata": {},
   "outputs": [
    {
     "name": "stdout",
     "output_type": "stream",
     "text": [
      "Kernel version 1 successfully pushed.  Please check progress at https://www.kaggle.com/code/welshonionman/distance-dinov27604\n"
     ]
    }
   ],
   "source": [
    "datasets = []\n",
    "\n",
    "push_kernel(\n",
    "    \"welshonionman\",\n",
    "    \"/kaggle/working/notebook/eda/distance-dinov2.ipynb\",\n",
    "    datasets=datasets,\n",
    "    comp=[\"image-matching-challenge-2024\"],\n",
    ")"
   ]
  },
  {
   "cell_type": "code",
   "execution_count": null,
   "metadata": {},
   "outputs": [],
   "source": [
    "!jupyter nbconvert --to notebook --execute --inplace /kaggle/working/notebook/experiment/stacked_unet/model16/train.ipynb"
   ]
  },
  {
   "cell_type": "code",
   "execution_count": null,
   "metadata": {},
   "outputs": [],
   "source": []
  },
  {
   "cell_type": "code",
   "execution_count": null,
   "metadata": {},
   "outputs": [],
   "source": []
  }
 ],
 "metadata": {
  "kernelspec": {
   "display_name": "Python 3",
   "language": "python",
   "name": "python3"
  },
  "language_info": {
   "codemirror_mode": {
    "name": "ipython",
    "version": 3
   },
   "file_extension": ".py",
   "mimetype": "text/x-python",
   "name": "python",
   "nbconvert_exporter": "python",
   "pygments_lexer": "ipython3",
   "version": "3.10.14"
  },
  "orig_nbformat": 4,
  "vscode": {
   "interpreter": {
    "hash": "31f2aee4e71d21fbe5cf8b01ff0e069b9275f58929596ceb00d14d90e3e16cd6"
   }
  }
 },
 "nbformat": 4,
 "nbformat_minor": 2
}
